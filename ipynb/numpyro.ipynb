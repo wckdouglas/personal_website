{
 "cells": [
  {
   "cell_type": "markdown",
   "id": "814b25b6-d781-406d-8fe8-fd64ed2a7a40",
   "metadata": {},
   "source": [
    "+++\n",
    "title = \"Numpyro\"\n",
    "date = \"2022-10-19\"\n",
    "+++\n",
    "\n",
    "From the last [[blog post]](https://wckdouglas.netlify.app/blog/experiment-with-jax/), I experimented with [[JAX]](https://github.com/google/jax). \n",
    "And this time, I'll experiment a probablistic programming package [[NumPyro]](http://num.pyro.ai/en/latest/getting_started.html) which used JAX as it's backend.\n",
    "\n",
    "So what is probablistic programming? Quoting from Wikipedia:\n",
    "\n",
    "> Probabilistic programming (PP) is a programming paradigm in which probabilistic models are specified and inference for these models is performed automatically.\n",
    "\n",
    "Useful things that every probablistic programming frameworks do are variational inference (fitting parameters for models), or posterior sampling, etc. \n",
    "\n",
    "Here's a [[good introduction]](https://ericmjl.github.io/bayesian-deep-learning-demystified/#/IntroductionSlide) on how probablistic programming relates to deep learning.\n",
    "\n",
    "In python, the most popular probablistic framework is probably [[pymc3]](https://docs.pymc.io/en/v3/), It uses [[Theano]](https://github.com/Theano/Theano) as the backend, \n",
    "which is not in active development anymore (with a new fork called [[Aesara]](https://aesara.readthedocs.io/en/latest/)). \n",
    "Apart from pymc3, there are multiple other packages that do similar things, \n",
    "such as [[pymc4]](https://github.com/pymc-devs/pymc4) (built on [[tensorflow-probability]](https://www.tensorflow.org/probability), and is in a early phase of development), \n",
    "[[PyStan]](https://pystan.readthedocs.io/en/latest/) (which requires writing non-python code to define the model), \n",
    "[[pyro]](https://pyro.ai/) (an open source project from Uber, using Facebook's [[pytorch]](https://pytorch.org/) as backend). \n",
    "And recently, Uber is rewriting pyro using NumPy/JAX backend to [speed up](https://pyro.ai/) sampling:\n",
    "\n",
    "> NumPyro Release We’re excited to announce the release of NumPyro, a NumPy-backed Pyro using JAX for automatic differentiation and JIT compilation, with over 100x speedup for HMC and NUTS! See the examples and documentation for more details.\n",
    "\n"
   ]
  },
  {
   "cell_type": "code",
   "execution_count": 1,
   "id": "e3fed0e3-6fa1-4aca-b607-b0c33101143d",
   "metadata": {},
   "outputs": [],
   "source": [
    "import warnings\n",
    "\n",
    "warnings.filterwarnings(\"ignore\")\n",
    "import arviz as az\n",
    "import jax\n",
    "import jax.numpy as jnp\n",
    "import matplotlib.pyplot as plt\n",
    "import numpy as np\n",
    "import numpyro\n",
    "import numpyro.distributions as dist\n",
    "import pandas as pd\n",
    "import seaborn as sns\n",
    "from jax import random\n",
    "from numpyro.diagnostics import hpdi\n",
    "from numpyro.infer import MCMC, NUTS, Predictive\n",
    "\n",
    "plt.rc(\"axes\", labelsize=15)\n",
    "plt.rc(\"xtick\", labelsize=15)\n",
    "plt.rc(\"ytick\", labelsize=15)\n",
    "\n",
    "\n",
    "numpyro.set_host_device_count(4)  # to tell numpyro we can utilize 4 cpus"
   ]
  },
  {
   "cell_type": "markdown",
   "id": "5f517415-86d0-4e67-9c4b-8da98cb14d54",
   "metadata": {},
   "source": [
    "## Hypothesis testing examples ##\n",
    "\n",
    "Say we spend a few days counting whales and sharks in the Atlantic and\n",
    "Indian oceans. In the Atlantic ocean we find 8 whales and 1 shark, in the\n",
    "Indian ocean 2 whales and 5 sharks. Then our contingency table is::\n",
    "\n",
    "            Atlantic  Indian\n",
    "    whales     8        2\n",
    "    sharks     1        5\n",
    "\n",
    "We use this table to find the p-value:\n",
    "\n",
    "```\n",
    ">>> from scipy.stats import fisher_exact\n",
    ">>> oddsratio, pvalue = fisher_exact([[8, 2], [1, 5]])\n",
    ">>> pvalue\n",
    "0.0349...\n",
    "```\n",
    "\n",
    "The probability that we would observe this or an even more imbalanced ratio\n",
    "by chance is about 3.5%.  A commonly used significance level is 5%--if we\n",
    "adopt that, we can therefore conclude that our observed imbalance is\n",
    "statistically significant; whales prefer the Atlantic while sharks prefer\n",
    "the Indian ocean.\n",
    "\n",
    "\n",
    "There are different mis-interpretations of p-value, such as on [the definition itself](https://www.nature.com/articles/nmeth.4210.pdf) and the [meaning of magnitude of a p value](https://www.cell.com/action/showPdf?pii=S2405-4712%2819%2930071-7)"
   ]
  },
  {
   "cell_type": "code",
   "execution_count": 2,
   "id": "251dd6c6-383d-4112-a9d3-5c24917ff327",
   "metadata": {},
   "outputs": [],
   "source": [
    "def model(\n",
    "    whales_in_atlantic_ocean: int,\n",
    "    sharks_in_atlantic_ocean: int,\n",
    "    whales_in_indian_ocean: int,\n",
    "    sharks_in_indian_ocean: int,\n",
    "    n_samples: int = 1000,\n",
    ") -> None:\n",
    "    \"\"\"model framework for simulating two samples\n",
    "\n",
    "    :param int whales_in_atlantic_ocean: how many whales did we find in atlantic ocean in the few days?\n",
    "    :param int sharks_in_atlantic_ocean: how many sharks did we find in atlantic ocean in the few days?\n",
    "    :param int whales_in_indian_ocean: how many whales did we find in indian ocean in the few days?\n",
    "    :param int sharks_in_indian_ocean: how many sharks did we find in indian ocean in the few days?\n",
    "    :param int n_samples: how many samples to be drawn for the comparison\n",
    "    \"\"\"\n",
    "\n",
    "    # the probability of finding a whale can be modeled as a beta distribution\n",
    "    atlantic_whales_prior = numpyro.sample(\n",
    "        \"atlantic_ocean_whale_prob\",\n",
    "        dist.Beta(whales_in_atlantic_ocean, sharks_in_atlantic_ocean),\n",
    "    )\n",
    "    indian_whales_prior = numpyro.sample(\n",
    "        \"indian_ocean_whale_prob\",\n",
    "        dist.Beta(whales_in_indian_ocean, sharks_in_indian_ocean),\n",
    "    )\n",
    "\n",
    "    # We can then simulate n observation using a binomial distribution conditioning on\n",
    "    # the whale-finding probability that we defined above\n",
    "    atlantic_whales_sampling = numpyro.sample(\n",
    "        \"out1\", dist.Binomial(total_count=n_samples, probs=atlantic_whales_prior)\n",
    "    )\n",
    "    indian_whales_sampling = numpyro.sample(\n",
    "        \"out2\", dist.Binomial(total_count=n_samples, probs=indian_whales_prior)\n",
    "    )\n",
    "\n",
    "    # and sampling from the posterior distribution of the difference between the two oceans\n",
    "    diff = numpyro.deterministic(\n",
    "        \"diff\", atlantic_whales_sampling - indian_whales_sampling\n",
    "    )"
   ]
  },
  {
   "cell_type": "code",
   "execution_count": 3,
   "id": "a7a4826d-9a2e-4ba3-86ba-9b4e24114940",
   "metadata": {},
   "outputs": [
    {
     "name": "stderr",
     "output_type": "stream",
     "text": [
      "sample: 100%|███████████| 600/600 [00:01<00:00, 363.41it/s, 3 steps of size 6.63e-01. acc. prob=0.93]\n"
     ]
    }
   ],
   "source": [
    "whales_in_atlantic_ocean = 8\n",
    "sharks_in_atlantic_ocean = 1\n",
    "whales_in_indian_ocean = 2\n",
    "sharks_in_indian_ocean = 5\n",
    "n_samples = 1000\n",
    "nuts_kernel = NUTS(model)\n",
    "mcmc = MCMC(nuts_kernel, num_warmup=500, num_samples=100, num_chains=1)\n",
    "rng_key = random.PRNGKey(0)\n",
    "mcmc.run(\n",
    "    rng_key,\n",
    "    whales_in_atlantic_ocean=whales_in_atlantic_ocean,\n",
    "    sharks_in_atlantic_ocean=sharks_in_atlantic_ocean,\n",
    "    whales_in_indian_ocean=whales_in_indian_ocean,\n",
    "    sharks_in_indian_ocean=sharks_in_indian_ocean,\n",
    "    n_samples=n_samples,\n",
    ")"
   ]
  },
  {
   "cell_type": "code",
   "execution_count": 4,
   "id": "0a3b8a14-6654-4586-a400-4265f3b3962a",
   "metadata": {},
   "outputs": [
    {
     "name": "stdout",
     "output_type": "stream",
     "text": [
      "\n",
      "                                 mean       std    median      5.0%     95.0%     n_eff     r_hat\n",
      "  atlantic_ocean_whale_prob      0.89      0.09      0.92      0.73      1.00     81.74      0.99\n",
      "    indian_ocean_whale_prob      0.27      0.16      0.25      0.03      0.53     67.86      0.99\n",
      "\n",
      "Number of divergences: 0\n"
     ]
    }
   ],
   "source": [
    "mcmc.print_summary()  # we can check the"
   ]
  },
  {
   "cell_type": "code",
   "execution_count": 5,
   "id": "bdf23100-a62b-44b7-87b3-4dd94b9e1187",
   "metadata": {},
   "outputs": [
    {
     "data": {
      "image/png": "[encoded data removed]",
      "text/plain": [
       "<Figure size 640x480 with 1 Axes>"
      ]
     },
     "metadata": {},
     "output_type": "display_data"
    }
   ],
   "source": [
    "preditive = Predictive(model, num_samples=100)  # sample 100\n",
    "pred = preditive(\n",
    "    rng_key,\n",
    "    whales_in_atlantic_ocean=whales_in_atlantic_ocean,\n",
    "    sharks_in_atlantic_ocean=sharks_in_atlantic_ocean,\n",
    "    whales_in_indian_ocean=whales_in_indian_ocean,\n",
    "    sharks_in_indian_ocean=sharks_in_indian_ocean,\n",
    "    n_samples=n_samples,\n",
    ")\n",
    "diff = pred[\"diff\"]\n",
    "\n",
    "fig = plt.figure()\n",
    "ax = fig.add_subplot(111)\n",
    "ax.hist(diff, bins=15)\n",
    "ax.set_xlabel(\n",
    "    \"Difference in whale counts in 1000 fish\\n(Atlantic ocean - Indian ocean)\"\n",
    ")\n",
    "ax.set_ylabel(\"Number of simulation\")\n",
    "sns.despine()"
   ]
  },
  {
   "cell_type": "code",
   "execution_count": 6,
   "id": "bf219cfa-b3d0-4d11-9e66-acf3ab049f82",
   "metadata": {},
   "outputs": [
    {
     "name": "stdout",
     "output_type": "stream",
     "text": [
      "There's a 90.0% chance there are 27.9% - 85.0% more whales in Atlantic oceans\n"
     ]
    }
   ],
   "source": [
    "interval = 0.90\n",
    "lower_bound, upper_bound = hpdi(diff, prob=interval)\n",
    "print(\n",
    "    f\"There's a {interval*100}% chance there are\"\n",
    "    f\" {100*lower_bound/n_samples}% - {100*upper_bound/n_samples}% more whales in Atlantic oceans\"\n",
    ")"
   ]
  },
  {
   "cell_type": "markdown",
   "id": "0e626716-f5a8-4b85-b3a3-d8f926651d79",
   "metadata": {},
   "source": [
    "## Regression ##\n",
    "\n",
    "We can also use the `numpyro` framework to fit regression lines. Let's simulate some data for a linear regression:\n",
    "\n",
    "$$ y = \\alpha + \\beta x + \\epsilon  $$"
   ]
  },
  {
   "cell_type": "code",
   "execution_count": 7,
   "id": "f777b5f8-3f34-42d7-8c4f-4aa459bd751c",
   "metadata": {},
   "outputs": [
    {
     "name": "stdout",
     "output_type": "stream",
     "text": [
      "Simulated beta: [8.09719626 1.63659436 0.94350658], alpha: 8.1\n"
     ]
    }
   ],
   "source": [
    "np.random.seed(1)\n",
    "sample_size = 100  # number of data points\n",
    "n_features = 3\n",
    "x = np.random.random_sample((sample_size, n_features)) * 10 - 5  # random variable\n",
    "alpha = np.random.random(1)[0] * 10  # intercept\n",
    "beta = np.random.random_integers(low=1, high=10, size=x.shape[1]) + np.random.normal(\n",
    "    loc=0, scale=1, size=x.shape[1]\n",
    ")  # slope\n",
    "epsilon = np.random.normal(\n",
    "    loc=0, scale=1, size=sample_size\n",
    ")  # adding some noise to the data\n",
    "y = alpha + x @ beta + epsilon  # this is the dependent variable\n",
    "print(f\"Simulated beta: {beta}, alpha: {alpha:0.2}\")"
   ]
  },
  {
   "cell_type": "markdown",
   "id": "90b1f33a-de9a-404a-80f4-e6cbdc18baec",
   "metadata": {},
   "source": [
    "we can fit it with scikit-learn and see if it can identified the parameters:"
   ]
  },
  {
   "cell_type": "code",
   "execution_count": 8,
   "id": "995e5613-90b2-4746-8c6c-0cb3132ebd45",
   "metadata": {},
   "outputs": [
    {
     "name": "stdout",
     "output_type": "stream",
     "text": [
      "Sklearn: alpha = 8.1; beta1=8.1; beta2=1.6; beta3=0.95\n"
     ]
    }
   ],
   "source": [
    "from sklearn.linear_model import LinearRegression\n",
    "\n",
    "lr = LinearRegression()\n",
    "lr.fit(x, y)\n",
    "sklearn_fitted_beta = lr.coef_\n",
    "sklearn_fitted_alpha = lr.intercept_\n",
    "sklearn_predicted = sklearn_fitted_alpha + x @ sklearn_fitted_beta\n",
    "fmt_string = f\"Sklearn: alpha = {sklearn_fitted_alpha:.2}\"\n",
    "for i, beta in enumerate(sklearn_fitted_beta):\n",
    "    fmt_string += f\"; beta{i+1}={sklearn_fitted_beta[i]:.2}\"\n",
    "print(fmt_string)"
   ]
  },
  {
   "cell_type": "code",
   "execution_count": 9,
   "id": "0260060f-48fe-426d-8e9c-560688d59c2c",
   "metadata": {},
   "outputs": [
    {
     "data": {
      "text/plain": [
       "(100,)"
      ]
     },
     "execution_count": 9,
     "metadata": {},
     "output_type": "execute_result"
    }
   ],
   "source": [
    "y.shape"
   ]
  },
  {
   "cell_type": "code",
   "execution_count": 10,
   "id": "28d1bdd9-2516-4aa6-8a71-c37884b99378",
   "metadata": {},
   "outputs": [],
   "source": [
    "def numpyro_linear_model(x: jnp.array, y: jnp.array) -> None:\n",
    "    \"\"\"\n",
    "    a linear model with numpyro\n",
    "\n",
    "    :param jnp.array x: explanatory variable, must be 2 dimension\n",
    "    :param jnp.array y: response variable\n",
    "    \"\"\"\n",
    "    if len(x.shape) != 2:\n",
    "        raise ValueError(\"Input x must be two dimensions\")\n",
    "\n",
    "    if len(y.shape) != 1:\n",
    "        raise ValueError(\"Input y must be single dimension\")\n",
    "\n",
    "    # initializing with very weak prior\n",
    "    beta = numpyro.sample(\n",
    "        \"beta\", dist.Normal(0, 100), sample_shape=(x.shape[1],)\n",
    "    )  # very weak prior for our slopes\n",
    "    intercept = numpyro.sample(\n",
    "        \"intercept\", dist.Normal(0, 100)\n",
    "    )  # weak prior for intercept\n",
    "    error = numpyro.sample(\"error\", dist.Exponential(0.1))  # noise term\n",
    "\n",
    "    # fitting with the observation (the given response varaible)\n",
    "    pred = jnp.dot(x, beta) + intercept\n",
    "    numpyro.sample(\"pred\", dist.Normal(pred, error), obs=y)"
   ]
  },
  {
   "cell_type": "code",
   "execution_count": 11,
   "id": "f9ac899f-57bd-43a8-bd58-6ab47fd33a05",
   "metadata": {},
   "outputs": [
    {
     "name": "stderr",
     "output_type": "stream",
     "text": [
      "sample: 100%|█████████| 1200/1200 [00:01<00:00, 707.15it/s, 7 steps of size 7.10e-01. acc. prob=0.92]\n"
     ]
    },
    {
     "name": "stdout",
     "output_type": "stream",
     "text": [
      "numpyro: alpha = 8.1; beta1=8.1; beta2=1.6; beta3=0.96\n"
     ]
    }
   ],
   "source": [
    "nuts_kernel = NUTS(numpyro_linear_model)\n",
    "mcmc = MCMC(nuts_kernel, num_warmup=1000, num_samples=200, num_chains=1)\n",
    "rng_key = random.PRNGKey(0)\n",
    "mcmc.run(rng_key, x, y)\n",
    "\n",
    "numpyro_fitted_beta = mcmc.get_samples()[\"beta\"].mean(axis=0)\n",
    "numpyro_fitted_alpha = mcmc.get_samples()[\"intercept\"].mean()\n",
    "numpyro_predicted = numpyro_fitted_alpha + x @ mcmc.get_samples()[\"beta\"].mean(axis=0)\n",
    "fmt_string = f\"numpyro: alpha = {numpyro_fitted_alpha:.2}\"\n",
    "for i, beta in enumerate(sklearn_fitted_beta):\n",
    "    fmt_string += f\"; beta{i+1}={numpyro_fitted_beta[i]:.2}\"\n",
    "print(fmt_string)"
   ]
  },
  {
   "cell_type": "markdown",
   "id": "3061b90e-8629-4387-8067-90ca33b9ca1e",
   "metadata": {},
   "source": [
    "# Regression for group comparison (t-test) #\n",
    "\n",
    "[[t-tests are lienar models]](https://lindeloev.github.io/tests-as-linear/), statistical tests can be represented as linear models. For example a two group t-tests can be represented as:\n",
    "\n",
    "![](https://lindeloev.github.io/tests-as-linear/index_files/figure-html/unnamed-chunk-27-1.png)\n",
    "\n",
    "In such a case, the slope parameter ($\\beta_1$) is t-tested against the null hypthesis $H_0: \\beta_1 = 0$ (in `statsmodel`, not in `scikit-learn`) to assign a p-value to whether the difference between the groups is \"significant\".\n",
    "\n",
    "We can do a simulated example with two groups:\n"
   ]
  },
  {
   "cell_type": "code",
   "execution_count": 12,
   "id": "63d9ff59-4dd5-43cf-bc77-63ceefb34470",
   "metadata": {},
   "outputs": [],
   "source": [
    "n_samples = 50  # how many samples to simulate for each group\n",
    "group1_mean = 10  # the mean for group 1\n",
    "group2_mean = 8  # the mean for group 2\n",
    "group1_samples = dist.Normal(loc=group1_mean, scale=3).sample(\n",
    "    rng_key, sample_shape=(n_samples,)\n",
    ")  # randomly sampling from a gaussian distribution\n",
    "group2_samples = dist.Normal(loc=group2_mean, scale=1).sample(\n",
    "    rng_key, sample_shape=(n_samples,)\n",
    ")  # randomly sampling from a gaussian distribution"
   ]
  },
  {
   "cell_type": "markdown",
   "id": "a594905c-e938-4153-96ed-83e12f52743b",
   "metadata": {},
   "source": [
    "Let's look at the simulated data:"
   ]
  },
  {
   "cell_type": "code",
   "execution_count": 13,
   "id": "23fb39bc-240d-4b20-b215-0eaad710db81",
   "metadata": {},
   "outputs": [
    {
     "data": {
      "image/png": "[encoded data removed]",
      "text/plain": [
       "<Figure size 640x480 with 1 Axes>"
      ]
     },
     "metadata": {},
     "output_type": "display_data"
    }
   ],
   "source": [
    "fig = plt.figure()\n",
    "ax = fig.add_subplot()\n",
    "sns.swarmplot(\n",
    "    data = pd.DataFrame(\n",
    "        dict(\n",
    "            group=[\"group1\"] * n_samples + [\"group2\"] * n_samples,\n",
    "            value=jnp.append(group1_samples, group2_samples),\n",
    "        )\n",
    "    ),\n",
    "    x=\"group\",\n",
    "    y=\"value\",\n",
    "    ax=ax\n",
    ")\n",
    "x_shift=0.1\n",
    "ax.hlines(\n",
    "    y=group1_mean,\n",
    "    xmin=-x_shift,\n",
    "    xmax=x_shift,\n",
    "    color=\"red\",\n",
    "    lw=3\n",
    ")\n",
    "ax.hlines(\n",
    "    y=group2_mean,\n",
    "    xmin=1- x_shift,\n",
    "    xmax=1 + x_shift,\n",
    "    color=\"red\",\n",
    "    lw=3\n",
    ")\n",
    "ax.plot([0,1],[group1_mean, group2_mean], color=\"red\")\n",
    "sns.despine()"
   ]
  },
  {
   "cell_type": "markdown",
   "id": "382f6777-98e0-4cd9-9257-dac74f7e6b83",
   "metadata": {},
   "source": [
    "## Hypothesis testing ##\n",
    "\n",
    "For most of the biology classes, we are often taught to use t-test:"
   ]
  },
  {
   "cell_type": "code",
   "execution_count": 14,
   "id": "5d54d1e1-004b-4cf0-b341-caae1175130e",
   "metadata": {},
   "outputs": [
    {
     "data": {
      "text/plain": [
       "Ttest_indResult(statistic=4.573989816976753, pvalue=1.4011349257302561e-05)"
      ]
     },
     "execution_count": 14,
     "metadata": {},
     "output_type": "execute_result"
    }
   ],
   "source": [
    "from scipy.stats import ttest_ind\n",
    "\n",
    "ttest_ind(group1_samples, group2_samples, alternative=\"two-sided\")"
   ]
  },
  {
   "cell_type": "markdown",
   "id": "dddbe42d-52ac-4af3-be26-3478910dd0ad",
   "metadata": {},
   "source": [
    "which gives a p-value of 0.0044\n",
    "\n",
    "Let's see if we can derive the same from a linear regresssion:"
   ]
  },
  {
   "cell_type": "code",
   "execution_count": 15,
   "id": "091cafcb-f1c0-4c5f-8ffe-17279031c551",
   "metadata": {},
   "outputs": [
    {
     "data": {
      "text/html": [
       "<table class=\"simpletable\">\n",
       "<caption>OLS Regression Results</caption>\n",
       "<tr>\n",
       "  <th>Dep. Variable:</th>            <td>y</td>        <th>  R-squared:         </th> <td>   0.176</td>\n",
       "</tr>\n",
       "<tr>\n",
       "  <th>Model:</th>                   <td>OLS</td>       <th>  Adj. R-squared:    </th> <td>   0.168</td>\n",
       "</tr>\n",
       "<tr>\n",
       "  <th>Method:</th>             <td>Least Squares</td>  <th>  F-statistic:       </th> <td>   20.92</td>\n",
       "</tr>\n",
       "<tr>\n",
       "  <th>Date:</th>             <td>Sat, 22 Oct 2022</td> <th>  Prob (F-statistic):</th> <td>1.40e-05</td>\n",
       "</tr>\n",
       "<tr>\n",
       "  <th>Time:</th>                 <td>13:39:44</td>     <th>  Log-Likelihood:    </th> <td> -206.65</td>\n",
       "</tr>\n",
       "<tr>\n",
       "  <th>No. Observations:</th>      <td>   100</td>      <th>  AIC:               </th> <td>   417.3</td>\n",
       "</tr>\n",
       "<tr>\n",
       "  <th>Df Residuals:</th>          <td>    98</td>      <th>  BIC:               </th> <td>   422.5</td>\n",
       "</tr>\n",
       "<tr>\n",
       "  <th>Df Model:</th>              <td>     1</td>      <th>                     </th>     <td> </td>   \n",
       "</tr>\n",
       "<tr>\n",
       "  <th>Covariance Type:</th>      <td>nonrobust</td>    <th>                     </th>     <td> </td>   \n",
       "</tr>\n",
       "</table>\n",
       "<table class=\"simpletable\">\n",
       "<tr>\n",
       "    <td></td>       <th>coef</th>     <th>std err</th>      <th>t</th>      <th>P>|t|</th>  <th>[0.025</th>    <th>0.975]</th>  \n",
       "</tr>\n",
       "<tr>\n",
       "  <th>const</th> <td>    9.6487</td> <td>    0.273</td> <td>   35.346</td> <td> 0.000</td> <td>    9.107</td> <td>   10.190</td>\n",
       "</tr>\n",
       "<tr>\n",
       "  <th>x1</th>    <td>   -1.7658</td> <td>    0.386</td> <td>   -4.574</td> <td> 0.000</td> <td>   -2.532</td> <td>   -1.000</td>\n",
       "</tr>\n",
       "</table>\n",
       "<table class=\"simpletable\">\n",
       "<tr>\n",
       "  <th>Omnibus:</th>       <td> 6.020</td> <th>  Durbin-Watson:     </th> <td>   1.734</td>\n",
       "</tr>\n",
       "<tr>\n",
       "  <th>Prob(Omnibus):</th> <td> 0.049</td> <th>  Jarque-Bera (JB):  </th> <td>   9.538</td>\n",
       "</tr>\n",
       "<tr>\n",
       "  <th>Skew:</th>          <td>-0.080</td> <th>  Prob(JB):          </th> <td> 0.00849</td>\n",
       "</tr>\n",
       "<tr>\n",
       "  <th>Kurtosis:</th>      <td> 4.504</td> <th>  Cond. No.          </th> <td>    2.62</td>\n",
       "</tr>\n",
       "</table><br/><br/>Notes:<br/>[1] Standard Errors assume that the covariance matrix of the errors is correctly specified."
      ],
      "text/plain": [
       "<class 'statsmodels.iolib.summary.Summary'>\n",
       "\"\"\"\n",
       "                            OLS Regression Results                            \n",
       "==============================================================================\n",
       "Dep. Variable:                      y   R-squared:                       0.176\n",
       "Model:                            OLS   Adj. R-squared:                  0.168\n",
       "Method:                 Least Squares   F-statistic:                     20.92\n",
       "Date:                Sat, 22 Oct 2022   Prob (F-statistic):           1.40e-05\n",
       "Time:                        13:39:44   Log-Likelihood:                -206.65\n",
       "No. Observations:                 100   AIC:                             417.3\n",
       "Df Residuals:                      98   BIC:                             422.5\n",
       "Df Model:                           1                                         \n",
       "Covariance Type:            nonrobust                                         \n",
       "==============================================================================\n",
       "                 coef    std err          t      P>|t|      [0.025      0.975]\n",
       "------------------------------------------------------------------------------\n",
       "const          9.6487      0.273     35.346      0.000       9.107      10.190\n",
       "x1            -1.7658      0.386     -4.574      0.000      -2.532      -1.000\n",
       "==============================================================================\n",
       "Omnibus:                        6.020   Durbin-Watson:                   1.734\n",
       "Prob(Omnibus):                  0.049   Jarque-Bera (JB):                9.538\n",
       "Skew:                          -0.080   Prob(JB):                      0.00849\n",
       "Kurtosis:                       4.504   Cond. No.                         2.62\n",
       "==============================================================================\n",
       "\n",
       "Notes:\n",
       "[1] Standard Errors assume that the covariance matrix of the errors is correctly specified.\n",
       "\"\"\""
      ]
     },
     "execution_count": 15,
     "metadata": {},
     "output_type": "execute_result"
    }
   ],
   "source": [
    "import statsmodels.api as sm\n",
    "\n",
    "x = np.append(jnp.zeros(n_samples), jnp.ones(n_samples)).reshape(-1, 1)\n",
    "y = np.append(group1_samples, group2_samples)\n",
    "sm_x = sm.add_constant(x)\n",
    "mod = sm.OLS(y, sm_x)\n",
    "fit = mod.fit()\n",
    "fit.summary()"
   ]
  },
  {
   "cell_type": "markdown",
   "id": "649d1a8e-b48e-4aa3-aa9c-f4664b37a15c",
   "metadata": {},
   "source": [
    "From the second table from the top, we can see that parameter x1 (out slope) was assigned with a $P>|t|$ of 0.004, which matches what we saw from the `scipy.stats.ttest_ind`.\n",
    "\n",
    "Now, what if we do the same but fit the linear regression with the above `numpyro` model:"
   ]
  },
  {
   "cell_type": "code",
   "execution_count": 16,
   "id": "c15a99de-1068-45e1-bc6c-1f8f2a414381",
   "metadata": {},
   "outputs": [
    {
     "name": "stderr",
     "output_type": "stream",
     "text": [
      "sample: 100%|█████████| 1200/1200 [00:01<00:00, 785.31it/s, 7 steps of size 4.75e-01. acc. prob=0.95]\n"
     ]
    }
   ],
   "source": [
    "nuts_kernel = NUTS(numpyro_linear_model)\n",
    "mcmc = MCMC(nuts_kernel, num_warmup=1000, num_samples=200, num_chains=1)\n",
    "rng_key = random.PRNGKey(0)\n",
    "mcmc.run(rng_key, x, y)"
   ]
  },
  {
   "cell_type": "markdown",
   "id": "11d64e4e-840c-45de-9cbd-b5e039d668d2",
   "metadata": {},
   "source": [
    "Using the numpyro framework, we can sample from the posterior distribution of $\\beta$ for free, meaning we can look at the difference between the two sample groups as a distribution. \n",
    "The good news is, we don't have to rely on a binary cutoff of p-value to reject the null hypothesis, \n",
    "which only tells us whether the values in the two groups are different (cutoff is often 0.05, also see: [Everything You Know about the P-Value is Wrong\n",
    "](https://www.tldrpharmacy.com/content/everything-you-know-about-the-p-value-is-wrong), and this [talk](https://speakerdeck.com/pycon2016/jake-vanderplas-statistics-for-hackers?slide=47)). \n",
    "From the posterior distribution, we can pick 1. the effect size (how much differences), and 2. the probabilty of seeing this difference. And we can determine what threshold is \"significant\":\n"
   ]
  },
  {
   "cell_type": "code",
   "execution_count": 17,
   "id": "17d47f74-af39-4e43-990b-fa260c20a283",
   "metadata": {},
   "outputs": [
    {
     "name": "stderr",
     "output_type": "stream",
     "text": [
      "WARNING:matplotlib.legend:No artists with labels found to put in legend.  Note that artists whose label start with an underscore are ignored when legend() is called with no argument.\n"
     ]
    },
    {
     "data": {
      "image/png": "[encoded data removed]",
      "text/plain": [
       "<Figure size 640x480 with 1 Axes>"
      ]
     },
     "metadata": {},
     "output_type": "display_data"
    }
   ],
   "source": [
    "threshold = -1\n",
    "diff = mcmc.get_samples()[\"beta\"]\n",
    "prob = len(diff[diff < threshold]) / len(diff)\n",
    "\n",
    "fig = plt.figure()\n",
    "ax = fig.add_subplot()\n",
    "ax.hist(diff.reshape(-1), bins=10)\n",
    "ax.vlines(x=threshold, ymin=0, ymax=60, color=\"red\")\n",
    "ax.text(\n",
    "    -2.5,\n",
    "    60,\n",
    "    f\"There's {prob*100}% chance we will\\nobserve a difference <{threshold}\",\n",
    "    ha=\"left\",\n",
    "    fontsize=15,\n",
    ")\n",
    "ax.set_xlabel(r\"$\\Delta (group2-group1)$\")\n",
    "ax.set_ylabel(\"Numer of comparison\")\n",
    "sns.despine()\n",
    "ax.legend().set_visible(False)\n",
    "fig.savefig(\"../static/article_images/numpyro_files/numpyro_26_1.png\", bbox_inches=\"tight\")"
   ]
  },
  {
   "cell_type": "code",
   "execution_count": null,
   "id": "1457a8dc-b3ad-4b85-befa-cf3a68dc744f",
   "metadata": {},
   "outputs": [],
   "source": []
  }
 ],
 "metadata": {
  "kernelspec": {
   "display_name": "jax",
   "language": "python",
   "name": "jax"
  },
  "language_info": {
   "codemirror_mode": {
    "name": "ipython",
    "version": 3
   },
   "file_extension": ".py",
   "mimetype": "text/x-python",
   "name": "python",
   "nbconvert_exporter": "python",
   "pygments_lexer": "ipython3",
   "version": "3.10.6"
  }
 },
 "nbformat": 4,
 "nbformat_minor": 5
}
