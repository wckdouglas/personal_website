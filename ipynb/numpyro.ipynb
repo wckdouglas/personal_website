{
 "cells": [
  {
   "cell_type": "markdown",
   "id": "814b25b6-d781-406d-8fe8-fd64ed2a7a40",
   "metadata": {},
   "source": [
    "From the last [blog post](https://wckdouglas.github.io/2020/07/experiment-with-jax), I experimented with [JAX](https://github.com/google/jax). And this time, I'll experiment a probablistic programming package [NumPyro](http://num.pyro.ai/en/latest/getting_started.html) which used JAX as it's backend.\n",
    "\n",
    "So what is probablistic programming? Quoting from Wikipedia:\n",
    "\n",
    "> Probabilistic programming (PP) is a programming paradigm in which probabilistic models are specified and inference for these models is performed automatically.\n",
    "\n",
    "Useful things that every probablistic programming frameworks do are variational inference (fitting parameters for models), or posterior sampling, etc. \n",
    "\n",
    "Here's a [good introduction](https://ericmjl.github.io/bayesian-deep-learning-demystified/#/IntroductionSlide) on how probablistic programming relates to deep learning.\n",
    "\n",
    "In python, the most popular probablistic framework is probably [pymc3](https://docs.pymc.io/en/v3/), It uses [Theano](https://github.com/Theano/Theano) as the backend, which is not in active development anymore (with a new fork called [Aesara](https://aesara.readthedocs.io/en/latest/)). Apart from pymc3, there are multiple other packages that do similar things, such as [pymc4](https://github.com/pymc-devs/pymc4) (built on [tensorflow-probability](https://www.tensorflow.org/probability), and is in a early phase of development), [PyStan](https://pystan.readthedocs.io/en/latest/) (which requires writing non-python code to define the model), [pyro](https://pyro.ai/) (an open source project from Uber, using Facebook's [pytorch](https://pytorch.org/) as backend). And recently, Uber is rewriting pyro using NumPy/JAX backend to [speed up](https://pyro.ai/) sampling:\n",
    "\n",
    "> NumPyro Release We’re excited to announce the release of NumPyro, a NumPy-backed Pyro using JAX for automatic differentiation and JIT compilation, with over 100x speedup for HMC and NUTS! See the examples and documentation for more details."
   ]
  },
  {
   "cell_type": "code",
   "execution_count": 48,
   "id": "e3fed0e3-6fa1-4aca-b607-b0c33101143d",
   "metadata": {},
   "outputs": [],
   "source": [
    "import warnings\n",
    "warnings.filterwarnings('ignore')\n",
    "import arviz as az\n",
    "import jax\n",
    "import matplotlib.pyplot as plt\n",
    "import numpy as np\n",
    "import numpyro\n",
    "import numpyro.distributions as dist\n",
    "from numpyro.infer import Predictive\n",
    "from jax import random\n",
    "from numpyro.diagnostics import hpdi\n",
    "from numpyro.infer import MCMC, NUTS\n",
    "numpyro.set_host_device_count(4)"
   ]
  },
  {
   "cell_type": "markdown",
   "id": "5f517415-86d0-4e67-9c4b-8da98cb14d54",
   "metadata": {},
   "source": [
    "## Hypothesis testing examples ##\n",
    "\n",
    "\n",
    "Say we spend a few days counting whales and sharks in the Atlantic and\n",
    "Indian oceans. In the Atlantic ocean we find 8 whales and 1 shark, in the\n",
    "Indian ocean 2 whales and 5 sharks. Then our contingency table is::\n",
    "\n",
    "            Atlantic  Indian\n",
    "    whales     8        2\n",
    "    sharks     1        5\n",
    "\n",
    "We use this table to find the p-value:\n",
    "\n",
    "```\n",
    ">>> from scipy.stats import fisher_exact\n",
    ">>> oddsratio, pvalue = fisher_exact([[8, 2], [1, 5]])\n",
    ">>> pvalue\n",
    "0.0349...\n",
    "```\n",
    "\n",
    "The probability that we would observe this or an even more imbalanced ratio\n",
    "by chance is about 3.5%.  A commonly used significance level is 5%--if we\n",
    "adopt that, we can therefore conclude that our observed imbalance is\n",
    "statistically significant; whales prefer the Atlantic while sharks prefer\n",
    "the Indian ocean.\n",
    "\n",
    "\n",
    "There are different mis-interpretations of p-value, such as on [the definition itself](https://www.nature.com/articles/nmeth.4210.pdf) and the [meaning of magnitude of a p value](https://www.cell.com/action/showPdf?pii=S2405-4712%2819%2930071-7)"
   ]
  },
  {
   "cell_type": "code",
   "execution_count": 49,
   "id": "251dd6c6-383d-4112-a9d3-5c24917ff327",
   "metadata": {},
   "outputs": [],
   "source": [
    "def model(x1, x2, y1, y2, n_observed=1000):\n",
    "    prior1 = numpyro.sample(\"prior1\", dist.Beta(x1,x2))\n",
    "    prior2 = numpyro.sample(\"prior2\", dist.Beta(y1,y2))\n",
    "    out1 = numpyro.sample(\"out1\", dist.Binomial(total_count=n_observed, probs=prior1))\n",
    "    out2 = numpyro.sample(\"out2\", dist.Binomial(total_count=n_observed, probs=prior2))\n",
    "    diff = numpyro.deterministic(\"diff\", out1-out2)"
   ]
  },
  {
   "cell_type": "code",
   "execution_count": 50,
   "id": "a7a4826d-9a2e-4ba3-86ba-9b4e24114940",
   "metadata": {},
   "outputs": [
    {
     "name": "stderr",
     "output_type": "stream",
     "text": [
      "sample: 100%|██████████| 600/600 [00:03<00:00, 184.37it/s, 7 steps of size 7.06e-01. acc. prob=0.92] \n",
      "sample: 100%|██████████| 600/600 [00:00<00:00, 1145.16it/s, 7 steps of size 6.90e-01. acc. prob=0.93]\n",
      "sample: 100%|██████████| 600/600 [00:00<00:00, 1103.69it/s, 7 steps of size 6.72e-01. acc. prob=0.94]\n",
      "sample: 100%|██████████| 600/600 [00:00<00:00, 1122.81it/s, 3 steps of size 7.07e-01. acc. prob=0.93] \n"
     ]
    }
   ],
   "source": [
    "whales_in_atlantic_ocean = 8\n",
    "sharks_in_atlantic_ocean = 1\n",
    "whales_in_indian_ocean = 2\n",
    "sharks_in_indian_ocean = 5\n",
    "n_observed = 1000\n",
    "nuts_kernel = NUTS(model)\n",
    "mcmc = MCMC(nuts_kernel, num_warmup=500, num_samples=100, num_chains=4)\n",
    "rng_key = random.PRNGKey(0)\n",
    "mcmc.run(\n",
    "    rng_key, \n",
    "    x1=whales_in_atlantic_ocean, \n",
    "    x2=sharks_in_atlantic_ocean,\n",
    "    y1=whales_in_indian_ocean, \n",
    "    y2=sharks_in_indian_ocean,\n",
    "    n_observed=n_observed\n",
    ")"
   ]
  },
  {
   "cell_type": "code",
   "execution_count": 51,
   "id": "bdf23100-a62b-44b7-87b3-4dd94b9e1187",
   "metadata": {},
   "outputs": [
    {
     "data": {
      "text/plain": [
       "(array([ 5.,  5.,  5.,  7.,  9., 23., 16., 18.,  8.,  4.]),\n",
       " array([159. , 238.6, 318.2, 397.8, 477.4, 557. , 636.6, 716.2, 795.8,\n",
       "        875.4, 955. ]),\n",
       " <BarContainer object of 10 artists>)"
      ]
     },
     "execution_count": 51,
     "metadata": {},
     "output_type": "execute_result"
    },
    {
     "data": {
      "image/png": "[encoded data removed]",
      "text/plain": [
       "<Figure size 640x480 with 1 Axes>"
      ]
     },
     "metadata": {},
     "output_type": "display_data"
    }
   ],
   "source": [
    "preditive = Predictive(model, num_samples=100)\n",
    "pred = preditive(\n",
    "    rng_key,\n",
    "    x1=whales_in_atlantic_ocean, \n",
    "    x2=sharks_in_atlantic_ocean,\n",
    "    y1=whales_in_indian_ocean, \n",
    "    y2=sharks_in_indian_ocean,\n",
    "    n_observed=n_observed\n",
    ")\n",
    "diff = pred['diff']\n",
    "plt.hist(diff)"
   ]
  },
  {
   "cell_type": "code",
   "execution_count": 52,
   "id": "7bce30a3-d631-46bc-9bca-c8650cd70290",
   "metadata": {},
   "outputs": [
    {
     "name": "stdout",
     "output_type": "stream",
     "text": [
      "\n",
      "                mean       std    median      5.0%     95.0%     n_eff     r_hat\n",
      "    prior1      0.88      0.10      0.90      0.74      1.00    337.29      1.01\n",
      "    prior2      0.28      0.15      0.27      0.03      0.51    282.16      1.00\n",
      "\n",
      "Number of divergences: 0\n"
     ]
    }
   ],
   "source": [
    "mcmc.print_summary()# exclude_deterministic=False)"
   ]
  },
  {
   "cell_type": "code",
   "execution_count": 53,
   "id": "bf219cfa-b3d0-4d11-9e66-acf3ab049f82",
   "metadata": {},
   "outputs": [
    {
     "name": "stdout",
     "output_type": "stream",
     "text": [
      "There's a 95.0% chance there are 21.9-90.4% more whales in Atlantic oceans\n"
     ]
    }
   ],
   "source": [
    "interval = 0.95\n",
    "lower_bound, upper_bound = hpdi(diff, prob=interval)\n",
    "print(f\"There's a {interval*100}% chance there are\"\\\n",
    "      f\" {100*lower_bound/n_observed}-{100*upper_bound/n_observed}% more whales in Atlantic oceans\" )"
   ]
  },
  {
   "cell_type": "markdown",
   "id": "0e626716-f5a8-4b85-b3a3-d8f926651d79",
   "metadata": {},
   "source": [
    "## Regression ##"
   ]
  },
  {
   "cell_type": "code",
   "execution_count": 54,
   "id": "f777b5f8-3f34-42d7-8c4f-4aa459bd751c",
   "metadata": {},
   "outputs": [
    {
     "name": "stdout",
     "output_type": "stream",
     "text": [
      "Simulated beta: 1, intercept: 1.4\n"
     ]
    }
   ],
   "source": [
    "sample_size = 100\n",
    "x = np.random.random_sample(sample_size) * 10\n",
    "intercept = np.random.random(1)[0] * 10\n",
    "beta = np.random.random_integers(1)\n",
    "noise = np.random.normal(loc=0,scale=1, size=sample_size)\n",
    "y = beta * x + intercept + noise\n",
    "print(f\"Simulated beta: {beta}, intercept: {intercept:0.2}\")"
   ]
  },
  {
   "cell_type": "code",
   "execution_count": 55,
   "id": "995e5613-90b2-4746-8c6c-0cb3132ebd45",
   "metadata": {},
   "outputs": [
    {
     "data": {
      "text/html": [
       "<style>#sk-container-id-2 {color: black;background-color: white;}#sk-container-id-2 pre{padding: 0;}#sk-container-id-2 div.sk-toggleable {background-color: white;}#sk-container-id-2 label.sk-toggleable__label {cursor: pointer;display: block;width: 100%;margin-bottom: 0;padding: 0.3em;box-sizing: border-box;text-align: center;}#sk-container-id-2 label.sk-toggleable__label-arrow:before {content: \"▸\";float: left;margin-right: 0.25em;color: #696969;}#sk-container-id-2 label.sk-toggleable__label-arrow:hover:before {color: black;}#sk-container-id-2 div.sk-estimator:hover label.sk-toggleable__label-arrow:before {color: black;}#sk-container-id-2 div.sk-toggleable__content {max-height: 0;max-width: 0;overflow: hidden;text-align: left;background-color: #f0f8ff;}#sk-container-id-2 div.sk-toggleable__content pre {margin: 0.2em;color: black;border-radius: 0.25em;background-color: #f0f8ff;}#sk-container-id-2 input.sk-toggleable__control:checked~div.sk-toggleable__content {max-height: 200px;max-width: 100%;overflow: auto;}#sk-container-id-2 input.sk-toggleable__control:checked~label.sk-toggleable__label-arrow:before {content: \"▾\";}#sk-container-id-2 div.sk-estimator input.sk-toggleable__control:checked~label.sk-toggleable__label {background-color: #d4ebff;}#sk-container-id-2 div.sk-label input.sk-toggleable__control:checked~label.sk-toggleable__label {background-color: #d4ebff;}#sk-container-id-2 input.sk-hidden--visually {border: 0;clip: rect(1px 1px 1px 1px);clip: rect(1px, 1px, 1px, 1px);height: 1px;margin: -1px;overflow: hidden;padding: 0;position: absolute;width: 1px;}#sk-container-id-2 div.sk-estimator {font-family: monospace;background-color: #f0f8ff;border: 1px dotted black;border-radius: 0.25em;box-sizing: border-box;margin-bottom: 0.5em;}#sk-container-id-2 div.sk-estimator:hover {background-color: #d4ebff;}#sk-container-id-2 div.sk-parallel-item::after {content: \"\";width: 100%;border-bottom: 1px solid gray;flex-grow: 1;}#sk-container-id-2 div.sk-label:hover label.sk-toggleable__label {background-color: #d4ebff;}#sk-container-id-2 div.sk-serial::before {content: \"\";position: absolute;border-left: 1px solid gray;box-sizing: border-box;top: 0;bottom: 0;left: 50%;z-index: 0;}#sk-container-id-2 div.sk-serial {display: flex;flex-direction: column;align-items: center;background-color: white;padding-right: 0.2em;padding-left: 0.2em;position: relative;}#sk-container-id-2 div.sk-item {position: relative;z-index: 1;}#sk-container-id-2 div.sk-parallel {display: flex;align-items: stretch;justify-content: center;background-color: white;position: relative;}#sk-container-id-2 div.sk-item::before, #sk-container-id-2 div.sk-parallel-item::before {content: \"\";position: absolute;border-left: 1px solid gray;box-sizing: border-box;top: 0;bottom: 0;left: 50%;z-index: -1;}#sk-container-id-2 div.sk-parallel-item {display: flex;flex-direction: column;z-index: 1;position: relative;background-color: white;}#sk-container-id-2 div.sk-parallel-item:first-child::after {align-self: flex-end;width: 50%;}#sk-container-id-2 div.sk-parallel-item:last-child::after {align-self: flex-start;width: 50%;}#sk-container-id-2 div.sk-parallel-item:only-child::after {width: 0;}#sk-container-id-2 div.sk-dashed-wrapped {border: 1px dashed gray;margin: 0 0.4em 0.5em 0.4em;box-sizing: border-box;padding-bottom: 0.4em;background-color: white;}#sk-container-id-2 div.sk-label label {font-family: monospace;font-weight: bold;display: inline-block;line-height: 1.2em;}#sk-container-id-2 div.sk-label-container {text-align: center;}#sk-container-id-2 div.sk-container {/* jupyter's `normalize.less` sets `[hidden] { display: none; }` but bootstrap.min.css set `[hidden] { display: none !important; }` so we also need the `!important` here to be able to override the default hidden behavior on the sphinx rendered scikit-learn.org. See: https://github.com/scikit-learn/scikit-learn/issues/21755 */display: inline-block !important;position: relative;}#sk-container-id-2 div.sk-text-repr-fallback {display: none;}</style><div id=\"sk-container-id-2\" class=\"sk-top-container\"><div class=\"sk-text-repr-fallback\"><pre>LinearRegression()</pre><b>In a Jupyter environment, please rerun this cell to show the HTML representation or trust the notebook. <br />On GitHub, the HTML representation is unable to render, please try loading this page with nbviewer.org.</b></div><div class=\"sk-container\" hidden><div class=\"sk-item\"><div class=\"sk-estimator sk-toggleable\"><input class=\"sk-toggleable__control sk-hidden--visually\" id=\"sk-estimator-id-2\" type=\"checkbox\" checked><label for=\"sk-estimator-id-2\" class=\"sk-toggleable__label sk-toggleable__label-arrow\">LinearRegression</label><div class=\"sk-toggleable__content\"><pre>LinearRegression()</pre></div></div></div></div></div>"
      ],
      "text/plain": [
       "LinearRegression()"
      ]
     },
     "execution_count": 55,
     "metadata": {},
     "output_type": "execute_result"
    }
   ],
   "source": [
    "from sklearn.linear_model import LinearRegression\n",
    "lr = LinearRegression()\n",
    "lr.fit(x.reshape(-1,1),y)"
   ]
  },
  {
   "cell_type": "code",
   "execution_count": 56,
   "id": "ebb0e10a-9d3b-40cb-aa46-d2a689368afc",
   "metadata": {},
   "outputs": [
    {
     "name": "stdout",
     "output_type": "stream",
     "text": [
      "sklearn fitting beta=1.1, intercept = 1.0\n"
     ]
    }
   ],
   "source": [
    "print(f\"sklearn fitting beta={lr.coef_[0]:.2}, intercept = {lr.intercept_:.2}\")"
   ]
  },
  {
   "cell_type": "code",
   "execution_count": 57,
   "id": "28d1bdd9-2516-4aa6-8a71-c37884b99378",
   "metadata": {},
   "outputs": [],
   "source": [
    "def numpyro_linear_model(x, y):\n",
    "    beta = numpyro.sample(\"beta\", dist.Normal(0,1))\n",
    "    intercept = numpyro.sample(\"intercept\", dist.Normal(0,1))\n",
    "    error = numpyro.sample(\"error\", dist.Exponential(0.1))\n",
    "    pred = beta*x + intercept\n",
    "    numpyro.sample(\"pred\", dist.Normal(pred, error), obs=y)"
   ]
  },
  {
   "cell_type": "code",
   "execution_count": 62,
   "id": "f9ac899f-57bd-43a8-bd58-6ab47fd33a05",
   "metadata": {},
   "outputs": [
    {
     "name": "stderr",
     "output_type": "stream",
     "text": [
      "sample: 100%|██████████| 700/700 [00:02<00:00, 250.43it/s, 7 steps of size 4.41e-01. acc. prob=0.92] \n",
      "sample: 100%|██████████| 700/700 [00:00<00:00, 1003.32it/s, 7 steps of size 4.07e-01. acc. prob=0.92] \n",
      "sample: 100%|██████████| 700/700 [00:00<00:00, 909.37it/s, 3 steps of size 4.01e-01. acc. prob=0.92]\n",
      "sample: 100%|██████████| 700/700 [00:00<00:00, 941.82it/s, 7 steps of size 4.03e-01. acc. prob=0.91] \n"
     ]
    },
    {
     "name": "stdout",
     "output_type": "stream",
     "text": [
      "NumPyro fitting beta=1.1, intercept = 0.89\n"
     ]
    }
   ],
   "source": [
    "nuts_kernel = NUTS(numpyro_linear_model)\n",
    "mcmc = MCMC(nuts_kernel, num_warmup=500, num_samples=200, num_chains=4)\n",
    "rng_key = random.PRNGKey(0)\n",
    "mcmc.run(rng_key, x, y)\n",
    "print(f\"NumPyro fitting beta={mcmc.get_samples()['beta'][0]:.2}, intercept = {mcmc.get_samples()['intercept'][0]:.2}\")"
   ]
  },
  {
   "cell_type": "code",
   "execution_count": 63,
   "id": "cc4d2474-5383-4dbc-b357-fdd71c4f568b",
   "metadata": {},
   "outputs": [
    {
     "data": {
      "text/plain": [
       "Text(0, 0.5, 'y')"
      ]
     },
     "execution_count": 63,
     "metadata": {},
     "output_type": "execute_result"
    },
    {
     "data": {
      "image/png": "[encoded data removed]",
      "text/plain": [
       "<Figure size 640x480 with 1 Axes>"
      ]
     },
     "metadata": {},
     "output_type": "display_data"
    }
   ],
   "source": [
    "fig = plt.figure()\n",
    "ax = fig.add_subplot(111)\n",
    "ax.scatter(x,y, label='raw data', alpha=0.2)\n",
    "xrange = np.arange(x.min(), x.max()+1)\n",
    "ax.plot(xrange, lr.coef_[0] * xrange + lr.intercept_, \n",
    "        color='salmon', label='sklearn',lw=4, \n",
    "       alpha=0.9)\n",
    "ax.plot(xrange, \n",
    "        mcmc.get_samples()['beta'][0] * xrange + mcmc.get_samples()['intercept'][0],\n",
    "       color='black', label='numpyro',\n",
    "       lw=4, alpha=0.5)\n",
    "ax.spines['top'].set_visible(False)\n",
    "ax.spines['right'].set_visible(False)\n",
    "ax.set_xlabel('x')\n",
    "ax.set_ylabel('y')"
   ]
  },
  {
   "cell_type": "code",
   "execution_count": null,
   "id": "f7f542d4-53d9-42bc-8b44-ed8c74496c76",
   "metadata": {},
   "outputs": [],
   "source": []
  }
 ],
 "metadata": {
  "kernelspec": {
   "display_name": "jax",
   "language": "python",
   "name": "jax"
  },
  "language_info": {
   "codemirror_mode": {
    "name": "ipython",
    "version": 3
   },
   "file_extension": ".py",
   "mimetype": "text/x-python",
   "name": "python",
   "nbconvert_exporter": "python",
   "pygments_lexer": "ipython3",
   "version": "3.10.6"
  }
 },
 "nbformat": 4,
 "nbformat_minor": 5
}
