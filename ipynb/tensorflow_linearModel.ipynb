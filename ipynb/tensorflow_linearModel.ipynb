{
 "cells": [
  {
   "cell_type": "code",
   "execution_count": 1,
   "metadata": {},
   "outputs": [],
   "source": [
    "%matplotlib inline"
   ]
  },
  {
   "cell_type": "code",
   "execution_count": 2,
   "metadata": {},
   "outputs": [],
   "source": [
    "import matplotlib.pyplot as plt\n",
    "import seaborn as sns\n",
    "import numpy as np\n",
    "from mpl_toolkits.axes_grid1.inset_locator import zoomed_inset_axes, mark_inset\n",
    "\n",
    "plt.rc('xtick', labelsize = 15)\n",
    "plt.rc('ytick', labelsize = 15)\n",
    "plt.rc('axes', labelsize=15)"
   ]
  },
  {
   "cell_type": "code",
   "execution_count": 3,
   "metadata": {},
   "outputs": [
    {
     "data": {
      "text/html": [
       "<div>\n",
       "<style scoped>\n",
       "    .dataframe tbody tr th:only-of-type {\n",
       "        vertical-align: middle;\n",
       "    }\n",
       "\n",
       "    .dataframe tbody tr th {\n",
       "        vertical-align: top;\n",
       "    }\n",
       "\n",
       "    .dataframe thead th {\n",
       "        text-align: right;\n",
       "    }\n",
       "</style>\n",
       "<table border=\"1\" class=\"dataframe\">\n",
       "  <thead>\n",
       "    <tr style=\"text-align: right;\">\n",
       "      <th></th>\n",
       "      <th>sepal_length</th>\n",
       "      <th>sepal_width</th>\n",
       "      <th>petal_length</th>\n",
       "      <th>petal_width</th>\n",
       "      <th>species</th>\n",
       "    </tr>\n",
       "  </thead>\n",
       "  <tbody>\n",
       "    <tr>\n",
       "      <th>0</th>\n",
       "      <td>5.1</td>\n",
       "      <td>3.5</td>\n",
       "      <td>1.4</td>\n",
       "      <td>0.2</td>\n",
       "      <td>setosa</td>\n",
       "    </tr>\n",
       "    <tr>\n",
       "      <th>1</th>\n",
       "      <td>4.9</td>\n",
       "      <td>3.0</td>\n",
       "      <td>1.4</td>\n",
       "      <td>0.2</td>\n",
       "      <td>setosa</td>\n",
       "    </tr>\n",
       "    <tr>\n",
       "      <th>2</th>\n",
       "      <td>4.7</td>\n",
       "      <td>3.2</td>\n",
       "      <td>1.3</td>\n",
       "      <td>0.2</td>\n",
       "      <td>setosa</td>\n",
       "    </tr>\n",
       "    <tr>\n",
       "      <th>3</th>\n",
       "      <td>4.6</td>\n",
       "      <td>3.1</td>\n",
       "      <td>1.5</td>\n",
       "      <td>0.2</td>\n",
       "      <td>setosa</td>\n",
       "    </tr>\n",
       "    <tr>\n",
       "      <th>4</th>\n",
       "      <td>5.0</td>\n",
       "      <td>3.6</td>\n",
       "      <td>1.4</td>\n",
       "      <td>0.2</td>\n",
       "      <td>setosa</td>\n",
       "    </tr>\n",
       "  </tbody>\n",
       "</table>\n",
       "</div>"
      ],
      "text/plain": [
       "   sepal_length  sepal_width  petal_length  petal_width species\n",
       "0           5.1          3.5           1.4          0.2  setosa\n",
       "1           4.9          3.0           1.4          0.2  setosa\n",
       "2           4.7          3.2           1.3          0.2  setosa\n",
       "3           4.6          3.1           1.5          0.2  setosa\n",
       "4           5.0          3.6           1.4          0.2  setosa"
      ]
     },
     "execution_count": 3,
     "metadata": {},
     "output_type": "execute_result"
    }
   ],
   "source": [
    "iris = sns.load_dataset('iris')\n",
    "iris.head()"
   ]
  },
  {
   "cell_type": "code",
   "execution_count": 4,
   "metadata": {},
   "outputs": [],
   "source": [
    "x_train = iris.petal_length.values\n",
    "y_train = iris.petal_width.values"
   ]
  },
  {
   "cell_type": "markdown",
   "metadata": {},
   "source": [
    "Try to implement a [linear regression model with gradient descent](https://www.tensorflow.org/versions/r1.1/get_started/get_started) to model the relationship between petal length and width.\n",
    "\n",
    "$$Y = Wx + b$$\n",
    "\n",
    "Let's look at the \"true\" answer with ```LinearRegression``` from **scikit-learn**:"
   ]
  },
  {
   "cell_type": "code",
   "execution_count": 5,
   "metadata": {},
   "outputs": [
    {
     "data": {
      "image/png": "[encoded data removed]",
      "text/plain": [
       "<Figure size 432x288 with 1 Axes>"
      ]
     },
     "metadata": {},
     "output_type": "display_data"
    }
   ],
   "source": [
    "from sklearn.linear_model import LinearRegression\n",
    "\n",
    "def plot_weight(w, b, ax):\n",
    "    ax.scatter(iris.petal_length, iris.petal_width)\n",
    "    x = np.arange(0,8)\n",
    "    ax.plot(x, w * x + b, color = 'red')\n",
    "    ax.set_xlabel('Petal length')\n",
    "    ax.set_ylabel('Petal width')\n",
    "    ax.text(0,2, '$y = %.3fx + %.3f$' %(np.round(w,3), np.round(b,3)))\n",
    "\n",
    "\n",
    "fig = plt.figure()\n",
    "ax = fig.add_subplot(111)\n",
    "sk_lm = LinearRegression()\n",
    "sk_lm.fit(x_train.reshape(-1, 1), y_train)\n",
    "plot_weight(sk_lm.coef_, sk_lm.intercept_, ax)"
   ]
  },
  {
   "cell_type": "markdown",
   "metadata": {},
   "source": [
    "As expected, linear regression in **scikit-learn** does what it does.    \n",
    "\n",
    "Now, lets implement a linear regression with **TensorFlow**. **TensorFlow** is a computational graph library, it only computes every thing when an ```session``` is initiated and run."
   ]
  },
  {
   "cell_type": "code",
   "execution_count": 6,
   "metadata": {},
   "outputs": [],
   "source": [
    "import tensorflow as tf\n",
    "\n",
    "\n",
    "def tensor_lm(x,y, learning_rate, plot_loss):\n",
    "    W = tf.Variable([1.], tf.float32)  # initialize \n",
    "    b = tf.Variable([1.], tf.float32)\n",
    "\n",
    "    X = tf.placeholder(tf.float32)#, iris.petal_length)\n",
    "    Y = tf.placeholder(tf.float32)#iris.petal_width)\n",
    "    lm = W * X + b\n",
    "\n",
    "    sqrd_loss = tf.square(Y - lm)\n",
    "    loss = tf.reduce_sum(sqrd_loss)\n",
    "\n",
    "    optimizer = tf.train.GradientDescentOptimizer(learning_rate)\n",
    "    train = optimizer.minimize(loss)\n",
    "    \n",
    "    init_op = tf.global_variables_initializer()\n",
    "\n",
    "    losses = []\n",
    "    W = []\n",
    "    b = []\n",
    "    with tf.Session() as sess:\n",
    "        sess.run(init_op)\n",
    "\n",
    "        for i in range(1000):\n",
    "            curr_W, curr_b, curr_loss, l, _ = sess.run([W, b, loss train], {X:x_train, Y:y_train})\n",
    "            losses.append(l)\n",
    "            W.append(curr_W)\n",
    "            b.append(curr_b)\n",
    "    \n",
    "    for ax in plot_loss:\n",
    "        ax.plot(losses, label = r'$10^{%i}$' %np.log10(learning_rate))\n",
    "    return W, b"
   ]
  },
  {
   "cell_type": "code",
   "execution_count": null,
   "metadata": {},
   "outputs": [],
   "source": [
    "fig = plt.figure()\n",
    "ax = fig.add_subplot(111)\n",
    "axins = fig.add_axes([0.6,0.4,0.4,0.3])\n",
    "for lr in np.arange(1,5):\n",
    "    W, b = tensor_lm(x_train, y_train, 0.1**(lr), plot_loss=[ax, axins])\n",
    "ax.set_ylabel('Loss (sum of square error)')\n",
    "ax.set_xlabel('Iteration')\n",
    "ax.legend(title = 'Learning rate',\n",
    "          bbox_to_anchor = (0.2,0.9))\n",
    "\n",
    "axins.set_ylim(0,100)\n",
    "axins.set_xlim(0,500)\n",
    "mark_inset(ax, axins, loc1=2, loc2=4, fc=\"none\", ec=\"0.5\")\n",
    "sns.despine()"
   ]
  },
  {
   "cell_type": "code",
   "execution_count": null,
   "metadata": {},
   "outputs": [],
   "source": [
    "fig = plt.figure()\n",
    "ax = fig.add_subplot(111)\n",
    "plot_weight(W[-1], b[-1], ax)"
   ]
  },
  {
   "cell_type": "code",
   "execution_count": null,
   "metadata": {},
   "outputs": [],
   "source": [
    "ax = plt.subplot(111)\n",
    "for i in np.linspace(0,10000,20):\n",
    "    i = int(i)    \n",
    "    plot_weight(W[i], b[i], ax)"
   ]
  },
  {
   "cell_type": "code",
   "execution_count": null,
   "metadata": {},
   "outputs": [],
   "source": [
    "W[i]"
   ]
  },
  {
   "cell_type": "code",
   "execution_count": null,
   "metadata": {},
   "outputs": [],
   "source": []
  }
 ],
 "metadata": {
  "kernelspec": {
   "display_name": "tensorflow",
   "language": "python",
   "name": "tensorflow"
  },
  "language_info": {
   "codemirror_mode": {
    "name": "ipython",
    "version": 3
   },
   "file_extension": ".py",
   "mimetype": "text/x-python",
   "name": "python",
   "nbconvert_exporter": "python",
   "pygments_lexer": "ipython3",
   "version": "3.6.5"
  }
 },
 "nbformat": 4,
 "nbformat_minor": 2
}
