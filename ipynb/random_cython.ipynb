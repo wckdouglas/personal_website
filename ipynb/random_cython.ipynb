{
 "cells": [
  {
   "cell_type": "markdown",
   "metadata": {},
   "source": [
    "Recently, I am working into some [deep learning for genomics](https://gist.github.com/wckdouglas/a49a998b13b8bc4ffe2880cee6c738fb). My go-to deep-learning framework [Keras](http://keras.io) has a nice feature ```fit_generator``` that fetches mini-batches of data from a indefinite ```python generator``` and fit the model incrementally on each mini-batch. The ```python generator``` should yield a batch of feature and label from every ```next(generator)``` call. An example is as follow:\n",
    "\n",
    "``` {python}\n",
    "class data_generator():\n",
    "    '''\n",
    "    suppose the input data file is two columns:\n",
    "    where first columns is feature, second column is label   \n",
    "    '''\n",
    "\n",
    "    def __init__(self, tsv_file, batch_size = 100):\n",
    "        self.X = []\n",
    "        self.y = []\n",
    "        self.batch_size = batch_size\n",
    "        self.data_file = tsv_file\n",
    "        self.sample_generator = open(self.data_file)\n",
    "        \n",
    "    def __next__(self):\n",
    "        # reinitiate samples\n",
    "        self.X = []\n",
    "        self.y = []\n",
    "        \n",
    "        # populate the batch feature and label\n",
    "        data_gen()\n",
    "        \n",
    "        # return for keras model fit_generater\n",
    "        return self.X, self.y\n",
    "    \n",
    "    def data_gen(self):\n",
    "        sample_count = 0\n",
    "        while self.batch_size > sample_count:  # break loop when batch is filled\n",
    "            try:\n",
    "                line = next(self.sample_generator)\n",
    "                feature, label = line.split('\\t') ## extract feature and labels from the two columns\n",
    "                self.X.append(feature)\n",
    "                self.y.append(label)\n",
    "                sample_count += 1\n",
    "            except StopIteration: # if it loops to the end, re-open the file and loop again\n",
    "                self.sample_generator = open(self.data_file)  ## open the file again\n",
    "                line = next(self.sample_generator)\n",
    "                feature, label = line.split('\\t')  ## extract feature and labels from the two columns\n",
    "                self.X.append(feature)\n",
    "                self.y.append(label)\n",
    "                sample_count += 1\n",
    "```\n",
    "\n",
    "However, one drawback of this generator is batches are created sequentially from the data file, such that training samples are not shuffled. To introduce randomness into mini-batches, we can add a line of ```if random.random() > 0.5:``` before putting sample into the batch:\n",
    "\n",
    "``` {python}\n",
    "    def data_gen(self):\n",
    "        sample_count = 0\n",
    "        while self.batch_size > sample_count:  # break loop when batch is filled\n",
    "            try:\n",
    "                line = next(self.sample_generator)\n",
    "                if random.random() > 0.5:  ### added randomness ###\n",
    "                    feature, label = line.split('\\t') ## extract feature and labels from the two columns\n",
    "                    self.X.append(feature)\n",
    "                    self.y.append(label)\n",
    "                    sample_count += 1\n",
    "            except StopIteration: # if it loops to the end, re-open the file and loop again\n",
    "                self.sample_generator = open(self.data_file)  ## open the file again\n",
    "                line = next(self.sample_generator)\n",
    "                if random.random() > 0.5: ### added randomness ###\n",
    "                    feature, label = line.split('\\t')  ## extract feature and labels from the two columns\n",
    "                    self.X.append(feature)\n",
    "                    self.y.append(label)\n",
    "                    sample_count += 1\n",
    "```\n",
    "\n",
    "The builtin ```random``` module in ```python``` is nice enough to generator a number between 0 and 1, but it can be a bit slow. So in this post, I will show an [implementation](https://stackoverflow.com/questions/16138090/correct-way-to-generate-random-numbers-in-cython?utm_medium=organic&utm_source=google_rich_qa&utm_campaign=google_rich_qa) of random float number between 0 and 1 using ```cython``` and see how much speed up we can get. \n",
    "\n",
    "Below is the ```cython``` random function:"
   ]
  },
  {
   "cell_type": "code",
   "execution_count": 19,
   "metadata": {},
   "outputs": [
    {
     "name": "stdout",
     "output_type": "stream",
     "text": [
      "The cython extension is already loaded. To reload it, use:\n",
      "  %reload_ext cython\n"
     ]
    }
   ],
   "source": [
    "%matplotlib inline\n",
    "%load_ext cython"
   ]
  },
  {
   "cell_type": "code",
   "execution_count": 20,
   "metadata": {},
   "outputs": [],
   "source": [
    "%%cython\n",
    "\n",
    "from libc.stdlib cimport rand, RAND_MAX\n",
    "\n",
    "cpdef double cy_random():\n",
    "    return rand()/RAND_MAX"
   ]
  },
  {
   "cell_type": "markdown",
   "metadata": {},
   "source": [
    "Let's check if the results are similar by looking at the distibution of 10000 random numbers:"
   ]
  },
  {
   "cell_type": "code",
   "execution_count": 21,
   "metadata": {},
   "outputs": [
    {
     "name": "stderr",
     "output_type": "stream",
     "text": [
      "/Users/wckdouglas/miniconda3/lib/python3.6/site-packages/matplotlib/axes/_axes.py:6462: UserWarning: The 'normed' kwarg is deprecated, and has been replaced by the 'density' kwarg.\n",
      "  warnings.warn(\"The 'normed' kwarg is deprecated, and has been \"\n"
     ]
    },
    {
     "data": {
      "image/png": "[encoded data removed]",
      "text/plain": [
       "<Figure size 432x288 with 1 Axes>"
      ]
     },
     "metadata": {},
     "output_type": "display_data"
    }
   ],
   "source": [
    "import random\n",
    "import matplotlib.pyplot as plt\n",
    "import seaborn as sns\n",
    "\n",
    "ax = plt.subplot(111)\n",
    "sns.distplot([random.random() for i in range(10000)], ax = ax, label='builtin')\n",
    "sns.distplot([cy_random() for i in range(10000)], ax = ax, label = 'Cython')\n",
    "ax.legend(fontsize=15, bbox_to_anchor = (1,0.5))\n",
    "ax.set_xlabel('Random number', fontsize = 15)\n",
    "ax.set_ylabel('Density', fontsize=15)\n",
    "sns.despine()"
   ]
  },
  {
   "cell_type": "markdown",
   "metadata": {},
   "source": [
    "That looks similar enough, both of them are more or less uniform over [0,1]. Now, lets see how much time it takes for each of them to run:"
   ]
  },
  {
   "cell_type": "code",
   "execution_count": 16,
   "metadata": {},
   "outputs": [
    {
     "name": "stdout",
     "output_type": "stream",
     "text": [
      "108 ns ± 7.83 ns per loop (mean ± std. dev. of 7 runs, 10000000 loops each)\n"
     ]
    }
   ],
   "source": [
    "%timeit random.random()"
   ]
  },
  {
   "cell_type": "code",
   "execution_count": 17,
   "metadata": {},
   "outputs": [
    {
     "name": "stdout",
     "output_type": "stream",
     "text": [
      "54.2 ns ± 2.73 ns per loop (mean ± std. dev. of 7 runs, 10000000 loops each)\n"
     ]
    }
   ],
   "source": [
    "%timeit cy_random()"
   ]
  },
  {
   "cell_type": "code",
   "execution_count": null,
   "metadata": {},
   "outputs": [],
   "source": []
  }
 ],
 "metadata": {
  "kernelspec": {
   "display_name": "Python 3",
   "language": "python",
   "name": "python3"
  },
  "language_info": {
   "codemirror_mode": {
    "name": "ipython",
    "version": 3
   },
   "file_extension": ".py",
   "mimetype": "text/x-python",
   "name": "python",
   "nbconvert_exporter": "python",
   "pygments_lexer": "ipython3",
   "version": "3.6.5"
  }
 },
 "nbformat": 4,
 "nbformat_minor": 2
}
